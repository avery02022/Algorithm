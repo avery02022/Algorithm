{
  "nbformat": 4,
  "nbformat_minor": 0,
  "metadata": {
    "colab": {
      "provenance": [],
      "authorship_tag": "ABX9TyMHDqtpoHiU5U4eHvu29XlQ"
    },
    "kernelspec": {
      "name": "python3",
      "display_name": "Python 3"
    },
    "language_info": {
      "name": "python"
    }
  },
  "cells": [
    {
      "cell_type": "code",
      "execution_count": 1,
      "metadata": {
        "id": "LoAB9lfc9cdy"
      },
      "outputs": [],
      "source": [
        "class TreeNode:\n",
        "    # Constructor for tree nodde\n",
        "    def __init__(self, key, parent_node=None):\n",
        "        ## (## (print(f\"(1)def __init__ key: {key} parent_node: {parent_node}\")\n",
        "        self.key = key # set the key\n",
        "        self.parent = parent_node # set the parent_node\n",
        "        self.left = None # set the left child to None -- no left child to begin with\n",
        "        self.right = None # set the right child to None - no right child to begin with.\n",
        "\n",
        "\n",
        "    def is_root(self):\n",
        "        ## (print(f\"(2)def is_root self.parent: {self.parent}\")\n",
        "        parent_node = self.parent\n",
        "        return parent_node == None\n",
        "\n",
        "    # Function: insert\n",
        "    # insert a node with key `new_key` into the current tree.\n",
        "    def insert(self, new_key):\n",
        "        key = self.key\n",
        "        if new_key == key:\n",
        "            print(f'(3)def insert: Already inserted key {key}. Ignoring')\n",
        "\n",
        "        elif new_key < key: # new_key must go into the left subtree\n",
        "            if self.left == None: # no left child?\n",
        "                new_node = TreeNode(new_key, self) # create one with self as parent\n",
        "                self.left = new_node # set the left pointer\n",
        "                ## (print(f'(3)def insert: 1) Inserted key *{new_key}* into the left subtree of key *{key}*')\n",
        "            else:\n",
        "                self.left.insert(new_key) # recursively call insert on left subtree\n",
        "                ## (print(f'(3)def insert: 2) Inserted key *{new_key}* into the left subtree of key *{key}*')\n",
        "\n",
        "        else:  # new_key must go into the right subtree.\n",
        "            assert new_key > key\n",
        "            if self.right == None: # no right child?\n",
        "                new_node = TreeNode(new_key, self) # create one\n",
        "                self.right = new_node\n",
        "                ## (print(f'(3)def insert: 3) Inserted key *{new_key}* into the right subtree of key *{key}*')\n",
        "            else:\n",
        "                self.right.insert(new_key) # recusively call insert on right subtree.\n",
        "                ## (print(f'(3)def insert: 4) Inserted key *{new_key}* into the right subtree of key *{key}*')\n",
        "\n",
        "# TODO: Implement the function depthWiseTraverse below\n",
        "def depthWiseTraverse(root_node):\n",
        "    # This function inputs the root node of the tree.\n",
        "    # root_node is an instance of the TreeNode class provided to you above\n",
        "    # See description and example above.\n",
        "    # your code here\n",
        "\n",
        "    if root_node == None:\n",
        "      ## (print(\"(4)def depthWiseTraverse: 1) root_node is empty\")\n",
        "      return []\n",
        "\n",
        "    result = []\n",
        "\n",
        "    # Create a FIFO (First-In-First-Out) queue using a list and enqueue the root node.\n",
        "    fifo = [root_node]\n",
        "    ## (print(f'(4)def depthWiseTraverse: 2) fifo: {fifo}')\n",
        "\n",
        "    traversed = [root_node.key]\n",
        "    ## (print(f'(4)def depthWiseTraverse: 3) traversed: {traversed}')\n",
        "\n",
        "    # Perform a breadth-first traversal of the tree using the FIFO queue.\n",
        "    while fifo:\n",
        "        ## (print(f'(4)def depthWiseTraverse: 3.1) While fifo loop: {fifo}')\n",
        "\n",
        "        # Get the number of nodes at the current level.\n",
        "        len_fifo = len(fifo)\n",
        "        ## (print(f'(4)def depthWiseTraverse: 3.2) len_fifo: {len_fifo}')\n",
        "        vals = []\n",
        "        ## (print(f'(4)def depthWiseTraverse: 3.3) vals: {vals}')\n",
        "\n",
        "        # Process all nodes at the current level.\n",
        "        for i in range(len_fifo):\n",
        "            ## (print(f'(4)def depthWiseTraverse: 4) i: [{i}] in range len_fifo: {len_fifo}  fifo = {fifo}')\n",
        "\n",
        "            # Dequeue the first node from the FIFO queue.\n",
        "            pop_fifo = fifo.pop(0)\n",
        "            ## (print(f'(4)def depthWiseTraverse: 5) pop_fifo: ***  {pop_fifo.key}  ***')\n",
        "\n",
        "            vals.append(pop_fifo.key)\n",
        "            ## (print(f'(4)def depthWiseTraverse: 6) vals: {vals}')\n",
        "\n",
        "            # Enqueue the left child if it exists.\n",
        "            if pop_fifo.left:\n",
        "              fifo.append(pop_fifo.left)\n",
        "              ## (print(f'(4) depthWiseTraverse: 6) pop_fifo.left: {pop_fifo.left.key}')\n",
        "\n",
        "            # Enqueue the right child if it exists.\n",
        "            if pop_fifo.right:\n",
        "              fifo.append(pop_fifo.right)\n",
        "              ## (print(f'(4) depthWiseTraverse: 8) pop_fifo.right: {pop_fifo.right.key}')\n",
        "\n",
        "        # Extend the 'result' list with the keys (values) of nodes at the current level.\n",
        "        ## (print(f'(4) depthWiseTraverse: 9) vals: {vals}')\n",
        "        result.extend(vals)\n",
        "\n",
        "    # Return the result, which contains keys (values) of nodes in breadth-first order.\n",
        "    ## (print(f'result = {result}')\n",
        "    return result\n",
        "\n",
        "\n",
        "# ## (print(\"User time: Time spent executing code in user mode. - Sys time: Time spent executing system calls. - Total time: The sum of user and sys times. - Wall time: The actual time elapsed in the real world during code execution.\"\")\n",
        "\n"
      ]
    },
    {
      "cell_type": "code",
      "source": [
        "def make_tree(insertion_list):\n",
        "    assert len(insertion_list) > 0\n",
        "    root_node = TreeNode(insertion_list[0])\n",
        "    ## print(f\"(5)def make_tree: 1) root_node: {root_node.key}\")\n",
        "\n",
        "    for elt in insertion_list[1:]:\n",
        "      ## print(f\"(5)def make_tree: 2) elt: {elt} in insertion_list {insertion_list}, root_node: {root_node.key}\")\n",
        "\n",
        "      root_node.insert(elt)\n",
        "\n",
        "    return root_node"
      ],
      "metadata": {
        "id": "NA7HAEI2FYxi"
      },
      "execution_count": 2,
      "outputs": []
    },
    {
      "cell_type": "code",
      "source": [
        "print('-- Test 1 --')\n",
        "# Same as the example above\n",
        "tree1 = make_tree([11, 18, 15,  13, 21, 17, 4])\n",
        "lst1 = depthWiseTraverse(tree1)\n",
        "print(f'lst1 = {lst1}')\n",
        "assert lst1 == [11, 4, 18, 15, 21, 13, 17]"
      ],
      "metadata": {
        "colab": {
          "base_uri": "https://localhost:8080/"
        },
        "id": "ybhiKaGZE3x4",
        "outputId": "7952685e-11f7-46ef-c7e4-5754a350e6a0"
      },
      "execution_count": 3,
      "outputs": [
        {
          "output_type": "stream",
          "name": "stdout",
          "text": [
            "-- Test 1 --\n",
            "lst1 = [11, 4, 18, 15, 21, 13, 17]\n"
          ]
        }
      ]
    },
    {
      "cell_type": "code",
      "source": [
        "def sumOfBranches(root_node):\n",
        "\n",
        "    finished = []\n",
        "    sums = []\n",
        "    u = root_node\n",
        "\n",
        "    while(root_node not in finished): # Changed root_node to u\n",
        "\n",
        "      if u.left == None and u.right == None: # Check if u is a leaf node\n",
        "        finished.append(u)\n",
        "        number = u.key\n",
        "        p = u.parent\n",
        "        while(p != None):\n",
        "          number += p.key\n",
        "          p = p.parent\n",
        "\n",
        "        sums.append(number) # Append the sum of the branch to sums\n",
        "        if u.parent: # Check if u has a parent\n",
        "          if u == u.parent.left and u.parent.right != None: # Check if u is the left child and has a right sibling\n",
        "            u = u.parent.right # Move to the right sibling\n",
        "          else:\n",
        "            u = u.parent # Move up to the parent node\n",
        "        else:\n",
        "          finished.append(u) # Append u to finished if it has no parent\n",
        "\n",
        "      elif u.left != None and u.left not in finished: # Check if u has a left child that has not been visited\n",
        "        u = u.left # Move to the left child\n",
        "\n",
        "      elif u.right != None and u.right not in finished: # Check if u has a right child that has not been visited\n",
        "        u = u.right # Move to the right child\n",
        "\n",
        "      else:\n",
        "        finished.append(u) # Append u to finished if it has been visited\n",
        "        u = u.parent # Move up to the parent node\n",
        "\n",
        "    return sums # Return the list of branch sums"
      ],
      "metadata": {
        "id": "hUPEQ6GTGGib"
      },
      "execution_count": 4,
      "outputs": []
    },
    {
      "cell_type": "code",
      "source": [
        "print('-- Test 1 --')\n",
        "# Same as the example from problem 1\n",
        "tree1 = make_tree([11, 18, 15, 13, 21, 17, 4])\n",
        "lst1 = sumOfBranches(tree1)\n",
        "print(lst1)\n",
        "assert lst1 == [15, 57, 61, 50]"
      ],
      "metadata": {
        "id": "68fSyoQU04yo",
        "colab": {
          "base_uri": "https://localhost:8080/"
        },
        "outputId": "1672afef-a540-45cf-a6fc-b86e6a8b33f4"
      },
      "execution_count": 5,
      "outputs": [
        {
          "output_type": "stream",
          "name": "stdout",
          "text": [
            "-- Test 1 --\n",
            "[15, 57, 61, 50]\n"
          ]
        }
      ]
    },
    {
      "cell_type": "code",
      "source": [
        "from math import sqrt\n",
        "\n",
        "# You may use this function to test if a point lies inside given circle.\n",
        "def ptInCircle(x,y, circles_list):\n",
        "    for (xc,yc,rc) in circles_list:\n",
        "        d = sqrt ( (x-xc)**2 + (y-yc)**2)\n",
        "        if d <= rc:\n",
        "            return True\n",
        "    return False\n",
        "\n",
        "def findPath(width, height, forbidden_circles_list):\n",
        "    # width is a positive number\n",
        "    # height is a positive number\n",
        "    # forbidden_circles_list is a list of triples [(x1, y1, r1),..., (xk, yk, rk)]\n",
        "    assert width >= 1\n",
        "    assert height >= 1\n",
        "    assert all(x <= width and x >=0 and y <= height and y >= 0 and r > 0 for (x,y,r) in forbidden_circles_list)\n",
        "    # your code here\n",
        "\n",
        "    validPoint = [(0, 0)]  # List to store valid points\n",
        "    parents = {}      # Dictionary to store parent-child relationships for path reconstruction\n",
        "    validPath = False    # Flag to indicate if a path is found\n",
        "\n",
        "    while validPoint:\n",
        "        x, y = validPoint.pop()\n",
        "        if (x, y) == (width, height):\n",
        "            validPath = True\n",
        "            break\n",
        "\n",
        "        # Check possible moves (right and up) and add to valid list if conditions are met\n",
        "        if x + 1 <= width and (x + 1, y) not in validPoint and not ptInCircle(x + 1, y, forbidden_circles_list):\n",
        "            validPoint.append((x + 1, y))\n",
        "            parents[(x + 1, y)] = (x, y)\n",
        "\n",
        "        if y + 1 <= height and (x, y + 1) not in validPoint and not ptInCircle(x, y + 1, forbidden_circles_list):\n",
        "            validPoint.append((x, y + 1))\n",
        "            parents[(x, y + 1)] = (x, y)\n",
        "\n",
        "    path = []\n",
        "    if validPath:\n",
        "        x, y = (width, height)\n",
        "        while (x, y) != (0, 0):\n",
        "            path.insert(0, (x, y))\n",
        "            x, y = parents[(x, y)]\n",
        "        path.insert(0, (0, 0))\n",
        "\n",
        "    return path\n"
      ],
      "metadata": {
        "id": "Iv3SRzf47N4a"
      },
      "execution_count": 6,
      "outputs": []
    },
    {
      "cell_type": "code",
      "source": [
        "def checkPath(width, height, circles, path):\n",
        "    assert path[0] == (0,0), 'Path must begin at (0,0)'\n",
        "    assert path[-1] == (width, height), f'Path must end at {(width, height)}'\n",
        "    (cur_x, cur_y) = path[0]\n",
        "    for (new_x, new_y) in path[1:]:\n",
        "        dx = new_x - cur_x\n",
        "        dy = new_y - cur_y\n",
        "        assert (dx,dy) in [(1,0),(-1,0), (0,1),(0,-1)]\n",
        "        assert 0 <= new_x and new_x <= width\n",
        "        assert 0 <= new_y and new_y <= height\n",
        "        assert not ptInCircle(new_x, new_y, circles)\n",
        "        cur_x, cur_y = new_x, new_y\n",
        "    return"
      ],
      "metadata": {
        "id": "WH7MHGr1Oq2u"
      },
      "execution_count": 7,
      "outputs": []
    },
    {
      "cell_type": "code",
      "source": [
        "print('-- Test 1 -- ')\n",
        "\n",
        "circles = [(2,2,0.5), (1,2,1)]\n",
        "p = findPath(3, 3, circles)\n",
        "print(p)\n",
        "checkPath(3, 3, circles, p)\n",
        "\n",
        "print('-- Test 5 --')\n",
        "circles5 = [ (4,1, 1), (4,4,1),(2,6,1)]\n",
        "p5 = findPath(6,6,circles5)\n",
        "assert p5 == []\n",
        "print(p5)\n",
        "\n"
      ],
      "metadata": {
        "colab": {
          "base_uri": "https://localhost:8080/"
        },
        "id": "D03v5tDHOtc5",
        "outputId": "b860c100-fbac-4582-9cb8-48f93d5c9f2a"
      },
      "execution_count": 8,
      "outputs": [
        {
          "output_type": "stream",
          "name": "stdout",
          "text": [
            "-- Test 1 -- \n",
            "[(0, 0), (1, 0), (2, 0), (2, 1), (3, 1), (3, 2), (3, 3)]\n",
            "-- Test 5 --\n",
            "[]\n"
          ]
        }
      ]
    },
    {
      "cell_type": "code",
      "source": [],
      "metadata": {
        "id": "GqJh24X6OvCk"
      },
      "execution_count": 8,
      "outputs": []
    }
  ]
}