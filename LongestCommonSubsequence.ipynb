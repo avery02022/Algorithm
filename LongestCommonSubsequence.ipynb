{
  "cells": [
    {
      "cell_type": "code",
      "execution_count": 1,
      "id": "available-garlic",
      "metadata": {
        "colab": {
          "base_uri": "https://localhost:8080/"
        },
        "id": "available-garlic",
        "outputId": "903ca1c0-e4ef-4124-a259-048d00a35e1e"
      },
      "outputs": [
        {
          "output_type": "stream",
          "name": "stdout",
          "text": [
            "Collecting ipython-autotime\n",
            "  Downloading ipython_autotime-0.3.2-py2.py3-none-any.whl.metadata (1.4 kB)\n",
            "Requirement already satisfied: ipython in /usr/local/lib/python3.11/dist-packages (from ipython-autotime) (7.34.0)\n",
            "Requirement already satisfied: setuptools>=18.5 in /usr/local/lib/python3.11/dist-packages (from ipython->ipython-autotime) (75.1.0)\n",
            "Collecting jedi>=0.16 (from ipython->ipython-autotime)\n",
            "  Downloading jedi-0.19.2-py2.py3-none-any.whl.metadata (22 kB)\n",
            "Requirement already satisfied: decorator in /usr/local/lib/python3.11/dist-packages (from ipython->ipython-autotime) (4.4.2)\n",
            "Requirement already satisfied: pickleshare in /usr/local/lib/python3.11/dist-packages (from ipython->ipython-autotime) (0.7.5)\n",
            "Requirement already satisfied: traitlets>=4.2 in /usr/local/lib/python3.11/dist-packages (from ipython->ipython-autotime) (5.7.1)\n",
            "Requirement already satisfied: prompt-toolkit!=3.0.0,!=3.0.1,<3.1.0,>=2.0.0 in /usr/local/lib/python3.11/dist-packages (from ipython->ipython-autotime) (3.0.50)\n",
            "Requirement already satisfied: pygments in /usr/local/lib/python3.11/dist-packages (from ipython->ipython-autotime) (2.18.0)\n",
            "Requirement already satisfied: backcall in /usr/local/lib/python3.11/dist-packages (from ipython->ipython-autotime) (0.2.0)\n",
            "Requirement already satisfied: matplotlib-inline in /usr/local/lib/python3.11/dist-packages (from ipython->ipython-autotime) (0.1.7)\n",
            "Requirement already satisfied: pexpect>4.3 in /usr/local/lib/python3.11/dist-packages (from ipython->ipython-autotime) (4.9.0)\n",
            "Requirement already satisfied: parso<0.9.0,>=0.8.4 in /usr/local/lib/python3.11/dist-packages (from jedi>=0.16->ipython->ipython-autotime) (0.8.4)\n",
            "Requirement already satisfied: ptyprocess>=0.5 in /usr/local/lib/python3.11/dist-packages (from pexpect>4.3->ipython->ipython-autotime) (0.7.0)\n",
            "Requirement already satisfied: wcwidth in /usr/local/lib/python3.11/dist-packages (from prompt-toolkit!=3.0.0,!=3.0.1,<3.1.0,>=2.0.0->ipython->ipython-autotime) (0.2.13)\n",
            "Downloading ipython_autotime-0.3.2-py2.py3-none-any.whl (7.0 kB)\n",
            "Downloading jedi-0.19.2-py2.py3-none-any.whl (1.6 MB)\n",
            "\u001b[2K   \u001b[90m━━━━━━━━━━━━━━━━━━━━━━━━━━━━━━━━━━━━━━━━\u001b[0m \u001b[32m1.6/1.6 MB\u001b[0m \u001b[31m15.8 MB/s\u001b[0m eta \u001b[36m0:00:00\u001b[0m\n",
            "\u001b[?25hInstalling collected packages: jedi, ipython-autotime\n",
            "Successfully installed ipython-autotime-0.3.2 jedi-0.19.2\n",
            "time: 377 µs (started: 2025-02-05 06:01:22 +00:00)\n"
          ]
        }
      ],
      "source": [
        "try:\n",
        "    %load_ext autotime\n",
        "except:\n",
        "    !pip install ipython-autotime\n",
        "    %load_ext autotime"
      ]
    },
    {
      "cell_type": "markdown",
      "id": "narrative-picking",
      "metadata": {
        "id": "narrative-picking"
      },
      "source": [
        "## Dynamic Programming Algorithm for Longest Common Subsequence\n",
        "\n",
        "$\\newcommand\\len{\\mathsf{len}}\n",
        "\\newcommand\\lcss{\\mathsf{lcss}}$\n",
        "\n",
        "\n",
        "Recall the recurrence that we implement to be `Python` friendly assuming that the arguments $i,j$ satisfy\n",
        "$0 \\leq i \\leq \\len(s_1)$ and $0 \\leq j \\leq \\len(s_2)$.\n",
        "\n",
        "\n",
        "$$\\lcss(i, j) = \\begin{cases}\n",
        "0 & i \\geq \\len(s_1) \\\\\n",
        "0 & j \\geq \\len(s_2) \\\\\n",
        "1 + \\lcss(i+1, j+1 ) &  s_1[i] = s_2[j] \\\\\n",
        "\\max( \\lcss(i+1, j), \\lcss(i, j+1) ) & \\text{otherwise} \\\\\n",
        "\\end{cases} $$"
      ]
    },
    {
      "cell_type": "code",
      "execution_count": 2,
      "id": "exceptional-detective",
      "metadata": {
        "colab": {
          "base_uri": "https://localhost:8080/"
        },
        "id": "exceptional-detective",
        "outputId": "e527d9b3-36a0-4228-dd9e-7cb32cfea7e3"
      },
      "outputs": [
        {
          "output_type": "stream",
          "name": "stdout",
          "text": [
            "time: 964 µs (started: 2025-02-05 06:01:22 +00:00)\n"
          ]
        }
      ],
      "source": [
        "def lcs(s1, s2, i, j):\n",
        "    assert 0 <= i and i <= len(s1)\n",
        "    assert 0 <= j and j <= len(s2)\n",
        "    if i == len(s1):\n",
        "        return 0\n",
        "    if j == len(s2):\n",
        "        return 0\n",
        "    if s1[i] == s2[j]:\n",
        "        return 1 + lcs(s1, s2, i+1, j+1)\n",
        "    else:\n",
        "        return max(lcs(s1, s2, i+1, j), lcs(s1, s2, i, j+1))"
      ]
    },
    {
      "cell_type": "markdown",
      "id": "controlled-senate",
      "metadata": {
        "id": "controlled-senate"
      },
      "source": [
        "Warning: the recurrence above is quite inefficient. See for yourself."
      ]
    },
    {
      "cell_type": "code",
      "execution_count": 3,
      "id": "multiple-weekly",
      "metadata": {
        "colab": {
          "base_uri": "https://localhost:8080/"
        },
        "id": "multiple-weekly",
        "outputId": "7bbc1ad6-3e43-4edb-9e11-71aa28477406"
      },
      "outputs": [
        {
          "output_type": "stream",
          "name": "stdout",
          "text": [
            "6\n",
            "time: 1.85 ms (started: 2025-02-05 06:01:22 +00:00)\n"
          ]
        }
      ],
      "source": [
        "s1 = \"GATTACA\"\n",
        "s2 = \"ACTGATAACAA\"\n",
        "print(lcs(s1, s2, 0, 0))"
      ]
    },
    {
      "cell_type": "code",
      "execution_count": 4,
      "id": "limited-former",
      "metadata": {
        "colab": {
          "base_uri": "https://localhost:8080/"
        },
        "id": "limited-former",
        "outputId": "e715f29d-facb-46b3-92b3-14551f7a84a4"
      },
      "outputs": [
        {
          "output_type": "stream",
          "name": "stdout",
          "text": [
            "10\n",
            "time: 161 ms (started: 2025-02-05 06:01:22 +00:00)\n"
          ]
        }
      ],
      "source": [
        "s1 = \"GGATTACCATTATGGAGGCGGA\"\n",
        "s2 = \"ACTTAGGTAGG\"\n",
        "print(lcs(s1, s2, 0, 0))"
      ]
    },
    {
      "cell_type": "code",
      "execution_count": 5,
      "id": "exotic-thing",
      "metadata": {
        "colab": {
          "base_uri": "https://localhost:8080/"
        },
        "id": "exotic-thing",
        "outputId": "05800b55-b0be-4d8b-a96b-b90bc0baf91b"
      },
      "outputs": [
        {
          "output_type": "stream",
          "name": "stdout",
          "text": [
            "11\n",
            "time: 57.6 s (started: 2025-02-05 06:01:22 +00:00)\n"
          ]
        }
      ],
      "source": [
        "# This is just slightly longer and will take more than a minute and a half to run\n",
        "s1 = \"GGATTACCATTATGGAGGCGGA\"\n",
        "s2 = \"ACTTAGGTAGATTATCCG\"\n",
        "print(lcs(s1, s2, 0, 0))"
      ]
    },
    {
      "cell_type": "code",
      "execution_count": null,
      "id": "narrative-vienna",
      "metadata": {
        "id": "narrative-vienna"
      },
      "outputs": [],
      "source": [
        "#slightly longer strings will take \"forever\" to run\n",
        "s1 = \"GGATTACACATTACCTATAGGTATAAT\"\n",
        "s2 = \"GGATTTATCTATAAATTACCTATTTATTATATTACCGTATGGTATGC\"\n",
        "print(lcs(s1, s2, 0, 0))"
      ]
    },
    {
      "cell_type": "code",
      "execution_count": null,
      "id": "sticky-stream",
      "metadata": {
        "id": "sticky-stream"
      },
      "outputs": [],
      "source": [
        "#Let's memoize\n",
        "\n",
        "def memoize_lcs(s1, s2):\n",
        "    m = len(s1)\n",
        "    n = len(s2)\n",
        "    # let's create a memo table and fill it with zeros. This will nicely take care of the base cases.\n",
        "    memo_tbl = [ [0 for j in range(n+1)] for i in range(m+1)]\n",
        "    sol_info = [ ['' for j in range(n+1)] for i in range(m+1)] # This will help us recover solutions\n",
        "    for i in range(m-1, -1, -1): # iterate from m-1 to 0 with a step of -1\n",
        "        for j in range(n-1, -1, -1):\n",
        "            if s1[i] == s2[j]:\n",
        "                memo_tbl[i][j] = memo_tbl[i+1][j+1] + 1\n",
        "                sol_info[i][j] = 'match'\n",
        "            else:\n",
        "                # Python allows us to compare and assign tuples\n",
        "                # This nifty bit of code saves us an if then else condition and assignments\n",
        "                # if you are new to python feel free to write out the logic carefully\n",
        "                memo_tbl[i][j], sol_info[i][j] = max((memo_tbl[i+1][j],'right'), (memo_tbl[i][j+1], 'down'))\n",
        "    # Now let us recover the longest common sub sequence\n",
        "    lcs = '' # initialize it to empty string\n",
        "    match_locations = [] # matches of (i,j)\n",
        "    i = 0\n",
        "    j = 0 # start at top left corner\n",
        "    while (i < m and j < n):\n",
        "        if sol_info[i][j] == 'match':\n",
        "            assert s1[i] == s2[j]\n",
        "            lcs = lcs + s1[i]\n",
        "            match_locations.append((i,j))\n",
        "            i,j = i + 1, j + 1\n",
        "        elif sol_info[i][j] == 'right':\n",
        "            i, j = i+1, j\n",
        "        else:\n",
        "            assert sol_info[i][j] == 'down'\n",
        "            i, j = i, j+1\n",
        "    return lcs, match_locations"
      ]
    },
    {
      "cell_type": "code",
      "execution_count": null,
      "id": "challenging-bosnia",
      "metadata": {
        "id": "challenging-bosnia"
      },
      "outputs": [],
      "source": [
        "s1 = \"GATTACA\"\n",
        "s2 = \"ACTGATAACAA\"\n",
        "(lcs, match_locations) = memoize_lcs(s1, s2)\n",
        "print(f'Longest common subsequence: {lcs} length= {len(lcs)}')\n",
        "print('Matches:')\n",
        "print('\\t Char:\\t i, j')\n",
        "for (i, j) in match_locations:\n",
        "    print(f'\\t {s1[i]}:\\t {i}, {j}')\n"
      ]
    },
    {
      "cell_type": "code",
      "execution_count": null,
      "id": "collaborative-chrome",
      "metadata": {
        "id": "collaborative-chrome"
      },
      "outputs": [],
      "source": [
        "s1 = \"GGATTACCATTATGGAGGCGGA\"\n",
        "s2 = \"ACTTAGGTAGG\"\n",
        "(lcs, match_locations) = memoize_lcs(s1, s2)\n",
        "print(f'Longest common subsequence: {lcs} length= {len(lcs)}')\n",
        "print('Matches:')\n",
        "print('\\t Char:\\t i, j')\n",
        "for (i, j) in match_locations:\n",
        "    print(f'\\t {s1[i]}:\\t {i}, {j}')"
      ]
    },
    {
      "cell_type": "code",
      "execution_count": null,
      "id": "reserved-blogger",
      "metadata": {
        "id": "reserved-blogger"
      },
      "outputs": [],
      "source": [
        "s1 = \"GGATTACCATTATGGAGGCGGA\"\n",
        "s2 = \"ACTTAGGTAGATTATCCG\"\n",
        "(lcs, match_locations) = memoize_lcs(s1, s2)\n",
        "print(f'Longest common subsequence: {lcs} length= {len(lcs)}')\n",
        "print('Matches:')\n",
        "print('\\t Char:\\t i, j')\n",
        "for (i, j) in match_locations:\n",
        "    print(f'\\t {s1[i]}:\\t {i}, {j}')"
      ]
    },
    {
      "cell_type": "code",
      "execution_count": null,
      "id": "numeric-market",
      "metadata": {
        "id": "numeric-market"
      },
      "outputs": [],
      "source": [
        "#slightly longer strings will run instantaneously given that we are memoizing\n",
        "s1 = \"GGATTACACATTACCTATAGGTATAAT\"\n",
        "s2 = \"GGATTTATCTATAAATTACCTATTTATTATATTACCGTATGGTATGC\"\n",
        "(lcs, match_locations) = memoize_lcs(s1, s2)\n",
        "print(f'Longest common subsequence: {lcs} length= {len(lcs)}')\n",
        "print('Matches:')\n",
        "print('\\t Char:\\t i, j')\n",
        "for (i, j) in match_locations:\n",
        "    print(f'\\t {s1[i]}:\\t {i}, {j}')"
      ]
    },
    {
      "cell_type": "code",
      "execution_count": null,
      "id": "printable-proof",
      "metadata": {
        "id": "printable-proof"
      },
      "outputs": [],
      "source": []
    }
  ],
  "metadata": {
    "kernelspec": {
      "display_name": "Python 3",
      "language": "python",
      "name": "python3"
    },
    "language_info": {
      "codemirror_mode": {
        "name": "ipython",
        "version": 3
      },
      "file_extension": ".py",
      "mimetype": "text/x-python",
      "name": "python",
      "nbconvert_exporter": "python",
      "pygments_lexer": "ipython3",
      "version": "3.9.1"
    },
    "colab": {
      "provenance": []
    }
  },
  "nbformat": 4,
  "nbformat_minor": 5
}